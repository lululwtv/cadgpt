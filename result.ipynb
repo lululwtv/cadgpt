{
 "cells": [
  {
   "cell_type": "code",
   "execution_count": null,
   "metadata": {},
   "outputs": [],
   "source": [
    "# Sample HexNut Code\n",
    "\n",
    "import cadquery as cq\n",
    "\n",
    "diameter = 0.25\n",
    "hex_width = 0.5  # Width across flats for a hex nut, typically larger than the hole\n",
    "thickness = 0.125  # Standard thickness for a nut, can be adjusted\n",
    "\n",
    "# Create the hexagonal nut\n",
    "result = (\n",
    "    cq.Workplane(\"XY\")\n",
    "    .polygon(6, hex_width)\n",
    "    .extrude(thickness)\n",
    "    .faces(\"<Z\")\n",
    "    .workplane()\n",
    "    .hole(diameter / 2)\n",
    ")\n",
    "\n",
    "display(result)"
   ]
  },
  {
   "cell_type": "code",
   "execution_count": null,
   "metadata": {},
   "outputs": [],
   "source": [
    "import cadquery as cq\n",
    "\n",
    "diameter = 0.25\n",
    "height = 0.125\n",
    "flat_distance = diameter / 2 / 0.866  # 0.866 is tan(30 degrees) for a regular hexagon\n",
    "\n",
    "result = (cq.Workplane(\"XY\")\n",
    "          .polygon(6, flat_distance * 2)\n",
    "          .extrude(height)\n",
    "          .faces(\"<Z\")\n",
    "          .workplane()\n",
    "          .hole(diameter / 2))\n",
    "display(result)"
   ]
  }
 ],
 "metadata": {
  "kernelspec": {
   "display_name": "Python 3 (ipykernel)",
   "language": "python",
   "name": "python3"
  },
  "language_info": {
   "codemirror_mode": {
    "name": "ipython",
    "version": 3
   },
   "file_extension": ".py",
   "mimetype": "text/x-python",
   "name": "python",
   "nbconvert_exporter": "python",
   "pygments_lexer": "ipython3",
   "version": "3.10.12"
  }
 },
 "nbformat": 4,
 "nbformat_minor": 2
}
