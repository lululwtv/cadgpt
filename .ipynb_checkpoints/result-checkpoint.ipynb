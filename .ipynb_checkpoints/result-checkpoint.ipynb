{
 "cells": [
  {
   "cell_type": "code",
   "execution_count": null,
   "metadata": {},
   "outputs": [],
   "source": [
    "# Sample HexNut Code\n",
    "\n",
    "import cadquery as cq\n",
    "\n",
    "diameter = 0.25\n",
    "hex_width = 0.5  # Width across flats for a hex nut, typically larger than the hole\n",
    "thickness = 0.125  # Standard thickness for a nut, can be adjusted\n",
    "\n",
    "# Create the hexagonal nut\n",
    "result = (\n",
    "    cq.Workplane(\"XY\")\n",
    "    .polygon(6, hex_width)\n",
    "    .extrude(thickness)\n",
    "    .faces(\"<Z\")\n",
    "    .workplane()\n",
    "    .hole(diameter / 2)\n",
    ")\n",
    "\n",
    "display(result)"
   ]
  },
  {
   "cell_type": "code",
   "execution_count": 2,
   "metadata": {},
   "outputs": [
    {
     "ename": "IndentationError",
     "evalue": "unexpected indent (3042571349.py, line 16)",
     "output_type": "error",
     "traceback": [
      "\u001b[0;36m  Cell \u001b[0;32mIn[2], line 16\u001b[0;36m\u001b[0m\n\u001b[0;31m    display(result)\u001b[0m\n\u001b[0m    ^\u001b[0m\n\u001b[0;31mIndentationError\u001b[0m\u001b[0;31m:\u001b[0m unexpected indent\n"
     ]
    }
   ],
   "source": [
    "python\n",
    "import cadquery as cq\n",
    "\n",
    "diameter = 0.25\n",
    "height = 0.125\n",
    "hex_size = diameter / 2 * 1.732  # 1.732 is approximately sqrt(3), used to calculate hex size from diameter\n",
    "\n",
    "result = (\n",
    "    cq.Workplane(\"XY\")\n",
    "    .polygon(6, hex_size)\n",
    "    .extrude(height)\n",
    "    .faces(\">Z\")\n",
    "    .workplane()\n",
    "    .hole(diameter / 2)\n",
    ")\n",
    "display(result)"
   ]
  },
  {
   "cell_type": "code",
   "execution_count": null,
   "metadata": {},
   "outputs": [],
   "source": []
  }
 ],
 "metadata": {
  "kernelspec": {
   "display_name": "Python 3 (ipykernel)",
   "language": "python",
   "name": "python3"
  },
  "language_info": {
   "codemirror_mode": {
    "name": "ipython",
    "version": 3
   },
   "file_extension": ".py",
   "mimetype": "text/x-python",
   "name": "python",
   "nbconvert_exporter": "python",
   "pygments_lexer": "ipython3",
   "version": "3.10.12"
  }
 },
 "nbformat": 4,
 "nbformat_minor": 2
}
