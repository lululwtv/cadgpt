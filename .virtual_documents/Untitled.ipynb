{
 "cells": [
  {
   "cell_type": "code",
   "execution_count": 1,
   "metadata": {},
   "outputs": [
    {
     "ename": "ModuleNotFoundError",
     "evalue": "No module named 'OCP'",
     "output_type": "error",
     "traceback": [
      "\u001b[31m---------------------------------------------------------------------------\u001b[39m",
      "\u001b[31mModuleNotFoundError\u001b[39m                       Traceback (most recent call last)",
      "\u001b[36mCell\u001b[39m\u001b[36m \u001b[39m\u001b[32mIn[1]\u001b[39m\u001b[32m, line 1\u001b[39m\n\u001b[32m----> \u001b[39m\u001b[32m1\u001b[39m \u001b[38;5;28;01mimport\u001b[39;00m\u001b[38;5;250m \u001b[39m\u001b[34;01mcadquery\u001b[39;00m\u001b[38;5;250m \u001b[39m\u001b[38;5;28;01mas\u001b[39;00m\u001b[38;5;250m \u001b[39m\u001b[34;01mcq\u001b[39;00m\n\u001b[32m      3\u001b[39m nut_diameter = \u001b[32m0.25\u001b[39m\n\u001b[32m      4\u001b[39m nut_height = \u001b[32m0.25\u001b[39m\n",
      "\u001b[36mFile \u001b[39m\u001b[32mc:\\Users\\edric\\anaconda3\\envs\\cadgpt\\Lib\\site-packages\\cadquery\\__init__.py:10\u001b[39m\n\u001b[32m      7\u001b[39m     __version__ = \u001b[33m\"\u001b[39m\u001b[33m2.3.0\u001b[39m\u001b[33m\"\u001b[39m\n\u001b[32m      9\u001b[39m \u001b[38;5;66;03m# these items point to the OCC implementation\u001b[39;00m\n\u001b[32m---> \u001b[39m\u001b[32m10\u001b[39m \u001b[38;5;28;01mfrom\u001b[39;00m\u001b[38;5;250m \u001b[39m\u001b[34;01m.\u001b[39;00m\u001b[34;01mocc_impl\u001b[39;00m\u001b[34;01m.\u001b[39;00m\u001b[34;01mgeom\u001b[39;00m\u001b[38;5;250m \u001b[39m\u001b[38;5;28;01mimport\u001b[39;00m Plane, BoundBox, Vector, Matrix, Location\n\u001b[32m     11\u001b[39m \u001b[38;5;28;01mfrom\u001b[39;00m\u001b[38;5;250m \u001b[39m\u001b[34;01m.\u001b[39;00m\u001b[34;01mocc_impl\u001b[39;00m\u001b[34;01m.\u001b[39;00m\u001b[34;01mshapes\u001b[39;00m\u001b[38;5;250m \u001b[39m\u001b[38;5;28;01mimport\u001b[39;00m (\n\u001b[32m     12\u001b[39m     Shape,\n\u001b[32m     13\u001b[39m     Vertex,\n\u001b[32m   (...)\u001b[39m\u001b[32m     20\u001b[39m     sortWiresByBuildOrder,\n\u001b[32m     21\u001b[39m )\n\u001b[32m     22\u001b[39m \u001b[38;5;28;01mfrom\u001b[39;00m\u001b[38;5;250m \u001b[39m\u001b[34;01m.\u001b[39;00m\u001b[34;01mocc_impl\u001b[39;00m\u001b[38;5;250m \u001b[39m\u001b[38;5;28;01mimport\u001b[39;00m exporters\n",
      "\u001b[36mFile \u001b[39m\u001b[32mc:\\Users\\edric\\anaconda3\\envs\\cadgpt\\Lib\\site-packages\\cadquery\\occ_impl\\geom.py:5\u001b[39m\n\u001b[32m      1\u001b[39m \u001b[38;5;28;01mimport\u001b[39;00m\u001b[38;5;250m \u001b[39m\u001b[34;01mmath\u001b[39;00m\n\u001b[32m      3\u001b[39m \u001b[38;5;28;01mfrom\u001b[39;00m\u001b[38;5;250m \u001b[39m\u001b[34;01mtyping\u001b[39;00m\u001b[38;5;250m \u001b[39m\u001b[38;5;28;01mimport\u001b[39;00m overload, Sequence, Union, Tuple, Type, Optional\n\u001b[32m----> \u001b[39m\u001b[32m5\u001b[39m \u001b[38;5;28;01mfrom\u001b[39;00m\u001b[38;5;250m \u001b[39m\u001b[34;01mOCP\u001b[39;00m\u001b[34;01m.\u001b[39;00m\u001b[34;01mgp\u001b[39;00m\u001b[38;5;250m \u001b[39m\u001b[38;5;28;01mimport\u001b[39;00m (\n\u001b[32m      6\u001b[39m     gp_Vec,\n\u001b[32m      7\u001b[39m     gp_Ax1,\n\u001b[32m      8\u001b[39m     gp_Ax3,\n\u001b[32m      9\u001b[39m     gp_Pnt,\n\u001b[32m     10\u001b[39m     gp_Dir,\n\u001b[32m     11\u001b[39m     gp_Pln,\n\u001b[32m     12\u001b[39m     gp_Trsf,\n\u001b[32m     13\u001b[39m     gp_GTrsf,\n\u001b[32m     14\u001b[39m     gp_XYZ,\n\u001b[32m     15\u001b[39m     gp_EulerSequence,\n\u001b[32m     16\u001b[39m     gp,\n\u001b[32m     17\u001b[39m )\n\u001b[32m     18\u001b[39m \u001b[38;5;28;01mfrom\u001b[39;00m\u001b[38;5;250m \u001b[39m\u001b[34;01mOCP\u001b[39;00m\u001b[34;01m.\u001b[39;00m\u001b[34;01mBnd\u001b[39;00m\u001b[38;5;250m \u001b[39m\u001b[38;5;28;01mimport\u001b[39;00m Bnd_Box\n\u001b[32m     19\u001b[39m \u001b[38;5;28;01mfrom\u001b[39;00m\u001b[38;5;250m \u001b[39m\u001b[34;01mOCP\u001b[39;00m\u001b[34;01m.\u001b[39;00m\u001b[34;01mBRepBndLib\u001b[39;00m\u001b[38;5;250m \u001b[39m\u001b[38;5;28;01mimport\u001b[39;00m BRepBndLib\n",
      "\u001b[31mModuleNotFoundError\u001b[39m: No module named 'OCP'"
     ]
    }
   ],
   "source": [
    "import cadquery as cq\n",
    "\n",
    "nut_diameter = 0.25\n",
    "nut_height = 0.25\n",
    "thread_diameter = 0.125\n",
    "\n",
    "# Create a hexagonal nut\n",
    "result = (\n",
    "    cq.Workplane(\"XY\")\n",
    "    .polygon(6, nut_diameter)\n",
    "    .extrude(nut_height)\n",
    "    .faces(\">Z\")\n",
    "    .workplane()\n",
    "    .hole(thread_diameter)\n",
    ")"
   ]
  }
 ],
 "metadata": {
  "kernelspec": {
   "display_name": "cadgpt",
   "language": "python",
   "name": "python3"
  },
  "language_info": {
   "codemirror_mode": {
    "name": "ipython",
    "version": 3
   },
   "file_extension": ".py",
   "mimetype": "text/x-python",
   "name": "python",
   "nbconvert_exporter": "python",
   "pygments_lexer": "ipython3",
   "version": "3.13.0"
  }
 },
 "nbformat": 4,
 "nbformat_minor": 2
}
