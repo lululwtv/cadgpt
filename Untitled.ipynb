{
 "cells": [
  {
   "cell_type": "code",
   "execution_count": 3,
   "id": "58e30d2d-6d44-4dc6-8ddb-b412ef4c9813",
   "metadata": {},
   "outputs": [
    {
     "ename": "NameError",
     "evalue": "name 'p_outerWidth' is not defined",
     "output_type": "error",
     "traceback": [
      "\u001b[1;31m---------------------------------------------------------------------------\u001b[0m",
      "\u001b[1;31mNameError\u001b[0m                                 Traceback (most recent call last)",
      "Cell \u001b[1;32mIn[3], line 4\u001b[0m\n\u001b[0;32m      1\u001b[0m \u001b[38;5;28;01mimport\u001b[39;00m \u001b[38;5;21;01mcadquery\u001b[39;00m \u001b[38;5;28;01mas\u001b[39;00m \u001b[38;5;21;01mcq\u001b[39;00m\n\u001b[0;32m      3\u001b[0m display(cq\u001b[38;5;241m.\u001b[39mWorkplane(\u001b[38;5;124m\"\u001b[39m\u001b[38;5;124mXY\u001b[39m\u001b[38;5;124m\"\u001b[39m)\n\u001b[1;32m----> 4\u001b[0m \u001b[38;5;241m.\u001b[39mrect(p_outerWidth, p_outerLength)\n\u001b[0;32m      5\u001b[0m \u001b[38;5;241m.\u001b[39mextrude(p_outerHeight \u001b[38;5;241m+\u001b[39m p_lipHeight))\n",
      "\u001b[1;31mNameError\u001b[0m: name 'p_outerWidth' is not defined"
     ]
    }
   ],
   "source": [
    "import cadquery as cq\n",
    "\n",
    "display(cq.Workplane(\"XY\")\n",
    ".rect(p_outerWidth, p_outerLength)\n",
    ".extrude(p_outerHeight + p_lipHeight))"
   ]
  }
 ],
 "metadata": {
  "kernelspec": {
   "display_name": "Python 3 (ipykernel)",
   "language": "python",
   "name": "python3"
  },
  "language_info": {
   "codemirror_mode": {
    "name": "ipython",
    "version": 3
   },
   "file_extension": ".py",
   "mimetype": "text/x-python",
   "name": "python",
   "nbconvert_exporter": "python",
   "pygments_lexer": "ipython3",
   "version": "3.12.7"
  }
 },
 "nbformat": 4,
 "nbformat_minor": 5
}
